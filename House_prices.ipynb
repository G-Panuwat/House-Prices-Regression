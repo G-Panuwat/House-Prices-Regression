{
 "cells": [
  {
   "cell_type": "code",
   "execution_count": null,
   "id": "9894f0a1-41b2-4a1c-bd09-6b4f2638d196",
   "metadata": {},
   "outputs": [],
   "source": [
    "import pandas as pd\n",
    "import numpy as np\n",
    "from sklearn.model_selection import train_test_split\n",
    "import matplotlib.pyplot as plt\n",
    "import seaborn as sns\n",
    "from scipy import stats\n",
    "from sklearn.impute import SimpleImputer\n",
    "from sklearn.preprocessing import StandardScaler, OrdinalEncoder, OneHotEncoder\n",
    "from sklearn.compose import ColumnTransformer, make_column_transformer\n",
    "from sklearn.pipeline import Pipeline, make_pipeline\n",
    "from sklearn.linear_model import LinearRegression, Ridge\n",
    "from sklearn.metrics import mean_squared_error, root_mean_squared_error\n",
    "from xgboost import XGBRegressor\n",
    "from catboost import CatBoostRegressor\n",
    "from sklearn.model_selection import GridSearchCV\n",
    "from sklearn.ensemble import RandomForestRegressor, GradientBoostingRegressor, VotingRegressor, StackingRegressor\n",
    "import lightgbm as lgb"
   ]
  },
  {
   "cell_type": "markdown",
   "id": "d579b58f-cf24-4fc9-a5c1-4fa21c57bdfb",
   "metadata": {},
   "source": [
    "## Import Data"
   ]
  },
  {
   "cell_type": "code",
   "execution_count": null,
   "id": "0216fa5f-caad-44b9-82e6-416ba7bd5003",
   "metadata": {},
   "outputs": [],
   "source": [
    "train_df = pd.read_csv('train.csv')\n",
    "test_df = pd.read_csv('test.csv')"
   ]
  },
  {
   "cell_type": "markdown",
   "id": "c499542f-50ef-4c1a-a057-70f110fe3edb",
   "metadata": {},
   "source": [
    "## Data Visualization"
   ]
  },
  {
   "cell_type": "code",
   "execution_count": null,
   "id": "c313e7b4-0d1b-4cb8-b0cd-4229903502ee",
   "metadata": {},
   "outputs": [],
   "source": [
    "train_df.columns"
   ]
  },
  {
   "cell_type": "code",
   "execution_count": null,
   "id": "eb156191-b886-4f19-a764-c154f97f1373",
   "metadata": {},
   "outputs": [],
   "source": [
    "train_df.describe()"
   ]
  },
  {
   "cell_type": "code",
   "execution_count": null,
   "id": "9ac33577-79c3-4e8a-9ac9-ffaa9205c520",
   "metadata": {},
   "outputs": [],
   "source": [
    "train_df.dtypes[train_df.dtypes != 'object']"
   ]
  },
  {
   "cell_type": "code",
   "execution_count": null,
   "id": "75d544db-ed05-4b31-a404-70d56e7661b0",
   "metadata": {},
   "outputs": [],
   "source": [
    "plt.scatter(x='LotFrontage', y='SalePrice', data= train_df)"
   ]
  },
  {
   "cell_type": "code",
   "execution_count": null,
   "id": "a3797b5b-ea4b-4804-a4ad-737a7ec73f1c",
   "metadata": {},
   "outputs": [],
   "source": [
    "train_df.query('LotFrontage > 300')\n",
    "#Drop 935, 1299"
   ]
  },
  {
   "cell_type": "code",
   "execution_count": null,
   "id": "7103917c-d671-4a55-a09e-f0b0d0c35fd9",
   "metadata": {},
   "outputs": [],
   "source": [
    "plt.scatter(x='LotArea', y='SalePrice', data= train_df)"
   ]
  },
  {
   "cell_type": "code",
   "execution_count": null,
   "id": "ac7ab326-14c8-4dfe-9068-065b21106036",
   "metadata": {},
   "outputs": [],
   "source": [
    "train_df.query('LotArea > 55000')\n",
    "#250, 314, 336, 452, 707\n",
    "#maybe 1397"
   ]
  },
  {
   "cell_type": "code",
   "execution_count": null,
   "id": "b9b3b451-10ab-483b-8ca3-e290a3c56ec3",
   "metadata": {},
   "outputs": [],
   "source": [
    "stats.zscore(train_df['LotArea']).sort_values().tail(10)"
   ]
  },
  {
   "cell_type": "code",
   "execution_count": null,
   "id": "93a1818f-c36b-40a0-8f82-85fd8e3fb031",
   "metadata": {},
   "outputs": [],
   "source": [
    "plt.scatter(x='OverallQual', y='SalePrice', data=train_df)"
   ]
  },
  {
   "cell_type": "code",
   "execution_count": null,
   "id": "be679982-ced5-4f15-9f92-e02ba4f9adb8",
   "metadata": {},
   "outputs": [],
   "source": [
    "train_df.query('OverallQual == 8 and SalePrice > 500000')\n",
    "#Maybe 524, 458, 770"
   ]
  },
  {
   "cell_type": "code",
   "execution_count": null,
   "id": "6349ea20-3ec8-445e-9928-713b4e247f06",
   "metadata": {},
   "outputs": [],
   "source": [
    "plt.scatter(x='OverallCond', y='SalePrice', data=train_df)"
   ]
  },
  {
   "cell_type": "code",
   "execution_count": null,
   "id": "295bb872-bbb6-4c00-bca1-c51bba87357f",
   "metadata": {},
   "outputs": [],
   "source": [
    "train_df.query('OverallCond == 6 and SalePrice > 700000')\n",
    "#379, 1183, 692"
   ]
  },
  {
   "cell_type": "code",
   "execution_count": null,
   "id": "ceedce79-6bea-4834-ae6f-badb40a9d0c3",
   "metadata": {},
   "outputs": [],
   "source": [
    "plt.scatter(x='YearBuilt', y='SalePrice', data=train_df)"
   ]
  },
  {
   "cell_type": "code",
   "execution_count": null,
   "id": "999fe4fd-c41f-403f-ab2c-eed90899cc25",
   "metadata": {},
   "outputs": [],
   "source": [
    "train_df.query('YearBuilt < 2000 and SalePrice >  650000')\n",
    "#186"
   ]
  },
  {
   "cell_type": "code",
   "execution_count": null,
   "id": "bcc83ea9-8592-4964-b4c1-fe7edb155539",
   "metadata": {},
   "outputs": [],
   "source": [
    "plt.scatter(x='YearRemodAdd', y='SalePrice', data=train_df)"
   ]
  },
  {
   "cell_type": "code",
   "execution_count": null,
   "id": "f52400e4-6f40-4c37-a133-b325093be103",
   "metadata": {},
   "outputs": [],
   "source": [
    "train_df.query('YearRemodAdd < 2000 and SalePrice >  650000')\n",
    "#314"
   ]
  },
  {
   "cell_type": "code",
   "execution_count": null,
   "id": "65754529-cfa3-456e-80bf-5d10e1cf9446",
   "metadata": {},
   "outputs": [],
   "source": [
    "plt.scatter(x='MasVnrArea', y='SalePrice', data=train_df)"
   ]
  },
  {
   "cell_type": "code",
   "execution_count": null,
   "id": "7d04463c-6579-4ecd-9635-44912b706b4b",
   "metadata": {},
   "outputs": [],
   "source": [
    "train_df.query('MasVnrArea > 1300')\n",
    "#298, 1170"
   ]
  },
  {
   "cell_type": "code",
   "execution_count": null,
   "id": "0c958ce3-e77f-4cc6-ab37-89ab6ebddb95",
   "metadata": {},
   "outputs": [],
   "source": [
    "plt.scatter(x='BsmtFinSF1', y='SalePrice', data=train_df)"
   ]
  },
  {
   "cell_type": "code",
   "execution_count": null,
   "id": "f76cb42c-b116-4f09-9685-283efbb5b710",
   "metadata": {},
   "outputs": [],
   "source": [
    "train_df.query('BsmtFinSF1 > 5000')\n",
    "#1299"
   ]
  },
  {
   "cell_type": "code",
   "execution_count": null,
   "id": "f9b47139-4e5a-4809-8b44-1222e597cae3",
   "metadata": {},
   "outputs": [],
   "source": [
    "plt.scatter(x='BsmtFinSF2', y='SalePrice', data=train_df)"
   ]
  },
  {
   "cell_type": "code",
   "execution_count": null,
   "id": "af587381-14d3-465c-b90b-bed1ce852e75",
   "metadata": {},
   "outputs": [],
   "source": [
    "train_df.query('BsmtFinSF2 > 1300')\n",
    "#323"
   ]
  },
  {
   "cell_type": "code",
   "execution_count": null,
   "id": "ba10c2c8-f733-4214-a952-6c796c2db749",
   "metadata": {},
   "outputs": [],
   "source": [
    "plt.scatter(x='BsmtUnfSF', y='SalePrice', data=train_df)"
   ]
  },
  {
   "cell_type": "code",
   "execution_count": null,
   "id": "678a2ada-490b-49f9-9d91-7140caa8d6dd",
   "metadata": {},
   "outputs": [],
   "source": [
    "train_df.query('BsmtUnfSF < 1000 & SalePrice > 700000')\n",
    "#692, 1183"
   ]
  },
  {
   "cell_type": "code",
   "execution_count": null,
   "id": "65a7a814-a531-4ae8-b673-e1e6bdaa9b69",
   "metadata": {},
   "outputs": [],
   "source": [
    "plt.scatter(x='TotalBsmtSF', y='SalePrice', data=train_df)"
   ]
  },
  {
   "cell_type": "code",
   "execution_count": null,
   "id": "380231b0-cbfb-442b-965b-72d031a036cc",
   "metadata": {},
   "outputs": [],
   "source": [
    "train_df.query('TotalBsmtSF > 6000')\n",
    "#1299"
   ]
  },
  {
   "cell_type": "code",
   "execution_count": null,
   "id": "a07eeb3d-27ed-490a-b4d2-d6910bdfde0d",
   "metadata": {},
   "outputs": [],
   "source": [
    "plt.scatter(x='2ndFlrSF', y='SalePrice', data=train_df)"
   ]
  },
  {
   "cell_type": "code",
   "execution_count": null,
   "id": "6877eeb9-d530-4242-8e2f-44130f7b91b9",
   "metadata": {},
   "outputs": [],
   "source": [
    "train_df.query('`1stFlrSF` > 4000')\n",
    "#1299"
   ]
  },
  {
   "cell_type": "code",
   "execution_count": null,
   "id": "e17cdc6d-7cfb-4dbe-8246-e57d510d2207",
   "metadata": {},
   "outputs": [],
   "source": [
    "plt.scatter(x='LowQualFinSF', y='SalePrice', data=train_df)"
   ]
  },
  {
   "cell_type": "code",
   "execution_count": null,
   "id": "6875d078-16ff-46ac-a25f-442fafab8d4d",
   "metadata": {},
   "outputs": [],
   "source": [
    "train_df.query('LowQualFinSF > 550')\n",
    "#186"
   ]
  },
  {
   "cell_type": "code",
   "execution_count": null,
   "id": "7c1f4036-205e-4309-bd5c-dbbfd5599548",
   "metadata": {},
   "outputs": [],
   "source": [
    "plt.scatter(x='GrLivArea', y='SalePrice', data=train_df)"
   ]
  },
  {
   "cell_type": "code",
   "execution_count": null,
   "id": "e55aaacf-7630-47f3-9392-6822fa325850",
   "metadata": {},
   "outputs": [],
   "source": [
    "train_df.query('GrLivArea > 4500')\n",
    "#524, 1299"
   ]
  },
  {
   "cell_type": "code",
   "execution_count": null,
   "id": "90ee5244-5a57-4492-8c48-92069aafe5f9",
   "metadata": {},
   "outputs": [],
   "source": [
    "plt.scatter(x='BsmtFullBath', y='SalePrice', data=train_df)"
   ]
  },
  {
   "cell_type": "code",
   "execution_count": null,
   "id": "13a6d276-2f0d-4cb8-86db-71d95a940fef",
   "metadata": {},
   "outputs": [],
   "source": [
    "train_df.query('BsmtFullBath == 3')\n",
    "#739"
   ]
  },
  {
   "cell_type": "code",
   "execution_count": null,
   "id": "89032111-f0b0-4003-a87f-d589a9fdc603",
   "metadata": {},
   "outputs": [],
   "source": [
    "plt.scatter(x='BsmtHalfBath', y='SalePrice', data=train_df)"
   ]
  },
  {
   "cell_type": "code",
   "execution_count": null,
   "id": "26e84a9c-463f-4bd8-9cdd-258fe1e89a77",
   "metadata": {},
   "outputs": [],
   "source": [
    "stats.zscore(train_df['BsmtHalfBath']).unique()"
   ]
  },
  {
   "cell_type": "code",
   "execution_count": null,
   "id": "9ea852cc-2b9d-4c33-80da-591ae3acd822",
   "metadata": {},
   "outputs": [],
   "source": [
    "train_df.query('BsmtHalfBath == 2')\n",
    "#598, 955"
   ]
  },
  {
   "cell_type": "code",
   "execution_count": null,
   "id": "9487d9ab-bccb-4dcb-b6b6-2ffc4da00395",
   "metadata": {},
   "outputs": [],
   "source": [
    "plt.scatter(x='FullBath', y='SalePrice', data=train_df)"
   ]
  },
  {
   "cell_type": "code",
   "execution_count": null,
   "id": "ea6631c1-019d-4e7e-a5a8-a87a25b11e08",
   "metadata": {},
   "outputs": [],
   "source": [
    "plt.scatter(x='HalfBath', y='SalePrice', data=train_df)"
   ]
  },
  {
   "cell_type": "code",
   "execution_count": null,
   "id": "17cfb00c-05ed-4a64-a472-f16092376239",
   "metadata": {},
   "outputs": [],
   "source": [
    "plt.scatter(x='BedroomAbvGr', y='SalePrice', data=train_df)"
   ]
  },
  {
   "cell_type": "code",
   "execution_count": null,
   "id": "8d5f2f5b-42cc-4267-a9db-115e4fe53231",
   "metadata": {},
   "outputs": [],
   "source": [
    "train_df.query('BedroomAbvGr == 8')\n",
    "#636"
   ]
  },
  {
   "cell_type": "code",
   "execution_count": null,
   "id": "acbcf021-8e40-4d06-9a05-0ce4a561956b",
   "metadata": {},
   "outputs": [],
   "source": [
    "plt.scatter(x='KitchenAbvGr', y='SalePrice', data=train_df)"
   ]
  },
  {
   "cell_type": "code",
   "execution_count": null,
   "id": "ea55d7b2-661b-4119-a153-a2e2a4d40d8f",
   "metadata": {},
   "outputs": [],
   "source": [
    "train_df.query('KitchenAbvGr == 3')\n",
    "#49, 810"
   ]
  },
  {
   "cell_type": "code",
   "execution_count": null,
   "id": "3a29e0f9-f4a2-43c2-be27-e2fd46c263ce",
   "metadata": {},
   "outputs": [],
   "source": [
    "plt.scatter(x='TotRmsAbvGrd', y='SalePrice', data=train_df)"
   ]
  },
  {
   "cell_type": "code",
   "execution_count": null,
   "id": "c85809d1-2c49-4ffc-8f80-1282f28e6252",
   "metadata": {},
   "outputs": [],
   "source": [
    "train_df.query('TotRmsAbvGrd == 14')\n",
    "#636"
   ]
  },
  {
   "cell_type": "code",
   "execution_count": null,
   "id": "204f1aa8-a022-4782-8a0b-88e1f96d8543",
   "metadata": {},
   "outputs": [],
   "source": [
    "plt.scatter(x='Fireplaces', y='SalePrice', data=train_df)"
   ]
  },
  {
   "cell_type": "code",
   "execution_count": null,
   "id": "26cc1265-cfb4-4eee-bcbb-27ec8369bbc8",
   "metadata": {},
   "outputs": [],
   "source": [
    "plt.scatter(x='GarageYrBlt', y='SalePrice', data=train_df)"
   ]
  },
  {
   "cell_type": "code",
   "execution_count": null,
   "id": "a4f2ef4e-d7aa-416f-b397-bb6575156d23",
   "metadata": {},
   "outputs": [],
   "source": [
    "plt.scatter(x='GarageCars', y='SalePrice', data=train_df)"
   ]
  },
  {
   "cell_type": "code",
   "execution_count": null,
   "id": "eb959c6b-9327-43e8-afa6-76afac2c398f",
   "metadata": {},
   "outputs": [],
   "source": [
    "plt.scatter(x='GarageArea', y='SalePrice', data=train_df)"
   ]
  },
  {
   "cell_type": "code",
   "execution_count": null,
   "id": "618d2592-450e-423e-bbbc-ef963c3a8366",
   "metadata": {},
   "outputs": [],
   "source": [
    "train_df.query('GarageArea > 1200')\n",
    "#826 ,1062, 1191, 1299"
   ]
  },
  {
   "cell_type": "code",
   "execution_count": null,
   "id": "3e0c10eb-e7f5-464b-90e0-8d0fab955363",
   "metadata": {},
   "outputs": [],
   "source": [
    "plt.scatter(x='WoodDeckSF', y='SalePrice', data=train_df)"
   ]
  },
  {
   "cell_type": "code",
   "execution_count": null,
   "id": "8efd64e8-3771-4e7a-ab2e-027cf59a1e7a",
   "metadata": {},
   "outputs": [],
   "source": [
    "stats.zscore(train_df['WoodDeckSF']).sort_values().tail(5)\n",
    "#54"
   ]
  },
  {
   "cell_type": "code",
   "execution_count": null,
   "id": "f80634a1-0539-47ec-a28e-7fecd3c63609",
   "metadata": {},
   "outputs": [],
   "source": [
    "plt.scatter(x='OpenPorchSF', y='SalePrice', data=train_df)"
   ]
  },
  {
   "cell_type": "code",
   "execution_count": null,
   "id": "75869114-66ab-4979-9872-1932b6eeb257",
   "metadata": {},
   "outputs": [],
   "source": [
    "stats.zscore(train_df['OpenPorchSF']).sort_values().tail(5)\n",
    "#584, 496, 1329"
   ]
  },
  {
   "cell_type": "code",
   "execution_count": null,
   "id": "066b8db3-ffac-4f8d-99f3-89f7d15d3f7d",
   "metadata": {},
   "outputs": [],
   "source": [
    "plt.scatter(x='EnclosedPorch', y='SalePrice', data=train_df)"
   ]
  },
  {
   "cell_type": "code",
   "execution_count": null,
   "id": "ea369dff-8c81-4198-a75e-b0aa1c1f849d",
   "metadata": {},
   "outputs": [],
   "source": [
    "train_df.query('EnclosedPorch > 500')\n",
    "#198"
   ]
  },
  {
   "cell_type": "code",
   "execution_count": null,
   "id": "d8ed454e-b840-4d08-9445-a513bbbd48e6",
   "metadata": {},
   "outputs": [],
   "source": [
    "plt.scatter(x='3SsnPorch', y='SalePrice', data=train_df)"
   ]
  },
  {
   "cell_type": "code",
   "execution_count": null,
   "id": "3c5c8a11-404c-4bc0-b106-96b981305017",
   "metadata": {},
   "outputs": [],
   "source": [
    "plt.scatter(x='ScreenPorch', y='SalePrice', data=train_df)"
   ]
  },
  {
   "cell_type": "code",
   "execution_count": null,
   "id": "ffdf53e3-0c6b-4f0c-883d-7551d8e67cee",
   "metadata": {},
   "outputs": [],
   "source": [
    "plt.scatter(x='PoolArea', y='SalePrice', data=train_df)"
   ]
  },
  {
   "cell_type": "code",
   "execution_count": null,
   "id": "145b2d3b-138a-4318-8715-74b2e7b98898",
   "metadata": {},
   "outputs": [],
   "source": [
    "train_df.query('PoolArea > 500')\n",
    "#1183"
   ]
  },
  {
   "cell_type": "code",
   "execution_count": null,
   "id": "359ee484-caa5-48bf-81f9-87bc0664eafd",
   "metadata": {},
   "outputs": [],
   "source": [
    "values = [935, 1299, 250, 314, 336, 452, 707, 1397, 524, 458, 770, 379, 1183, 692, 186, 314, 298, 1170, 1299, 323, 692, 1183, 1299, 186, 524, 1299, 739, 598, 955, 636, 49, 810, 826 ,1062, 1191, 1299, 54, 584, 496, 1329, 198, 1183]\n",
    "values = sorted(set(values))"
   ]
  },
  {
   "cell_type": "code",
   "execution_count": null,
   "id": "da244d1e-6bd1-4ae5-aeaa-4dcbf3a4c17e",
   "metadata": {},
   "outputs": [],
   "source": [
    "train_df = train_df[train_df.Id.isin(values) == False]"
   ]
  },
  {
   "cell_type": "code",
   "execution_count": null,
   "id": "c41c3a1b-6384-4ee8-880e-bb732fff9690",
   "metadata": {},
   "outputs": [],
   "source": [
    "pd.DataFrame(train_df.isnull().sum().sort_values(ascending = False)).head(20)"
   ]
  },
  {
   "cell_type": "code",
   "execution_count": null,
   "id": "905bae5a-66ee-47db-b5b5-fe0cd9f9ae7c",
   "metadata": {},
   "outputs": [],
   "source": [
    "train_df['Alley'].unique()"
   ]
  },
  {
   "cell_type": "code",
   "execution_count": null,
   "id": "fc8ebdce-f666-4620-a880-8c639c6d6108",
   "metadata": {},
   "outputs": [],
   "source": [
    "train_df['Alley'].fillna('No', inplace = True)\n",
    "test_df['Alley'].fillna('No', inplace = True)"
   ]
  },
  {
   "cell_type": "code",
   "execution_count": null,
   "id": "08d66e31-7a3f-4239-92b0-f60f8695621a",
   "metadata": {},
   "outputs": [],
   "source": [
    "sns.catplot(data = train_df, x='Alley', y='SalePrice', kind='box')"
   ]
  },
  {
   "cell_type": "code",
   "execution_count": null,
   "id": "8ff8a685-78f3-4cd0-8f9f-745800c17a00",
   "metadata": {},
   "outputs": [],
   "source": [
    "train_df['Fence'].unique()"
   ]
  },
  {
   "cell_type": "code",
   "execution_count": null,
   "id": "f0ec44f1-f065-4200-928f-06051176ea3e",
   "metadata": {},
   "outputs": [],
   "source": [
    "train_df['Fence'].fillna('No', inplace = True)\n",
    "test_df['Fence'].fillna('No', inplace = True)"
   ]
  },
  {
   "cell_type": "code",
   "execution_count": null,
   "id": "aa290de7-cd6d-47c1-bdb5-ca63b5590dc4",
   "metadata": {},
   "outputs": [],
   "source": [
    "sns.catplot(data = train_df, x='Fence', y='SalePrice', kind='box')"
   ]
  },
  {
   "cell_type": "code",
   "execution_count": null,
   "id": "f9c9c959-cf98-4deb-83db-8cc20a7a58fe",
   "metadata": {},
   "outputs": [],
   "source": [
    "train_df['MasVnrType'].unique()"
   ]
  },
  {
   "cell_type": "code",
   "execution_count": null,
   "id": "3c504f29-710b-4588-bbab-27cb62836901",
   "metadata": {},
   "outputs": [],
   "source": [
    "train_df['MasVnrType'].fillna('No', inplace = True)\n",
    "test_df['MasVnrType'].fillna('No', inplace = True)"
   ]
  },
  {
   "cell_type": "code",
   "execution_count": null,
   "id": "05be39ec-51ae-45ee-8eb0-245030b3d605",
   "metadata": {},
   "outputs": [],
   "source": [
    "sns.catplot(data = train_df, x='MasVnrType', y='SalePrice', kind='box')"
   ]
  },
  {
   "cell_type": "code",
   "execution_count": null,
   "id": "f5fa2974-db12-4fe8-8488-77c371da9b94",
   "metadata": {},
   "outputs": [],
   "source": [
    "train_df['MasVnrArea'].fillna(0, inplace = True)\n",
    "test_df['MasVnrArea'].fillna(0, inplace = True)"
   ]
  },
  {
   "cell_type": "code",
   "execution_count": null,
   "id": "e3999d95-3370-481a-8cf8-52d11e40952f",
   "metadata": {},
   "outputs": [],
   "source": [
    "train_df['FireplaceQu'].unique()"
   ]
  },
  {
   "cell_type": "code",
   "execution_count": null,
   "id": "edbf13d4-9553-4419-ac85-a03b56824b78",
   "metadata": {},
   "outputs": [],
   "source": [
    "train_df['FireplaceQu'].fillna('No', inplace = True)\n",
    "test_df['FireplaceQu'].fillna('No', inplace = True)"
   ]
  },
  {
   "cell_type": "code",
   "execution_count": null,
   "id": "8a723035-e0c0-4c99-ae93-59b61feeb768",
   "metadata": {},
   "outputs": [],
   "source": [
    "sns.catplot(data = train_df, x='FireplaceQu', y='SalePrice', kind='box')"
   ]
  },
  {
   "cell_type": "code",
   "execution_count": null,
   "id": "881c9530-924f-453d-9767-b0b383513a6f",
   "metadata": {},
   "outputs": [],
   "source": [
    "train_df['Fireplaces'].describe()"
   ]
  },
  {
   "cell_type": "code",
   "execution_count": null,
   "id": "cb94a4f1-da62-489b-ac61-74c6515f0b26",
   "metadata": {},
   "outputs": [],
   "source": [
    "sns.catplot(data = train_df, x='Fireplaces', y='SalePrice', kind='box')"
   ]
  },
  {
   "cell_type": "code",
   "execution_count": null,
   "id": "d569bbfe-feea-4432-8f81-0f04741e3819",
   "metadata": {},
   "outputs": [],
   "source": [
    "train_df['LotFrontage'].fillna('0', inplace = True)\n",
    "test_df['LotFrontage'].fillna('0', inplace = True)"
   ]
  },
  {
   "cell_type": "code",
   "execution_count": null,
   "id": "778f9732-fb1e-4d35-8be4-28d74dd9e6fa",
   "metadata": {},
   "outputs": [],
   "source": [
    "train_df['GarageYrBlt'].corr(train_df['YearBuilt'])"
   ]
  },
  {
   "cell_type": "code",
   "execution_count": null,
   "id": "0c473a9c-6d02-421a-9a29-0e104e8948c8",
   "metadata": {},
   "outputs": [],
   "source": [
    "train_df['GarageCond'].unique()"
   ]
  },
  {
   "cell_type": "code",
   "execution_count": null,
   "id": "2363b8b1-3b30-48d1-aaa1-2c29f1bed4f5",
   "metadata": {},
   "outputs": [],
   "source": [
    "train_df['GarageCond'].fillna('No', inplace = True)\n",
    "test_df['GarageCond'].fillna('No', inplace = True)"
   ]
  },
  {
   "cell_type": "code",
   "execution_count": null,
   "id": "ea093c2a-e164-4163-93a2-5470967d6c88",
   "metadata": {},
   "outputs": [],
   "source": [
    "sns.catplot(data = train_df, x='GarageCond', y='SalePrice', kind='box')"
   ]
  },
  {
   "cell_type": "code",
   "execution_count": null,
   "id": "46efdcb8-baf9-4d51-9b15-1337bce81e70",
   "metadata": {},
   "outputs": [],
   "source": [
    "train_df['GarageType'].unique()"
   ]
  },
  {
   "cell_type": "code",
   "execution_count": null,
   "id": "ee220125-81bb-4715-8710-373fecb072b0",
   "metadata": {},
   "outputs": [],
   "source": [
    "train_df['GarageType'].fillna('No', inplace = True)\n",
    "test_df['GarageType'].fillna('No', inplace = True)"
   ]
  },
  {
   "cell_type": "code",
   "execution_count": null,
   "id": "a4c8c4ab-d4e8-48bd-8a9e-feb4721284be",
   "metadata": {},
   "outputs": [],
   "source": [
    "sns.catplot(data = train_df, x='GarageType', y='SalePrice', kind='box')"
   ]
  },
  {
   "cell_type": "code",
   "execution_count": null,
   "id": "872f32b9-4c16-49f1-bedc-b647b48db209",
   "metadata": {},
   "outputs": [],
   "source": [
    "train_df['GarageFinish'].unique()"
   ]
  },
  {
   "cell_type": "code",
   "execution_count": null,
   "id": "80795593-9525-484c-9d14-2b8c9864876c",
   "metadata": {},
   "outputs": [],
   "source": [
    "train_df['GarageFinish'].fillna('No', inplace = True)\n",
    "test_df['GarageFinish'].fillna('No', inplace = True)"
   ]
  },
  {
   "cell_type": "code",
   "execution_count": null,
   "id": "24d159a2-55f7-4d15-a12c-eb3266008fb4",
   "metadata": {},
   "outputs": [],
   "source": [
    "sns.catplot(data = train_df, x='GarageFinish', y='SalePrice', kind='box')"
   ]
  },
  {
   "cell_type": "code",
   "execution_count": null,
   "id": "40f50fb6-8ccb-45a3-ad3e-a99d9b5c680c",
   "metadata": {},
   "outputs": [],
   "source": [
    "train_df['GarageQual'].unique()"
   ]
  },
  {
   "cell_type": "code",
   "execution_count": null,
   "id": "a6dfc50a-9dd8-4a9f-a4cc-20491c0351e1",
   "metadata": {},
   "outputs": [],
   "source": [
    "train_df['GarageQual'].fillna('No', inplace = True)\n",
    "test_df['GarageQual'].fillna('No', inplace = True)"
   ]
  },
  {
   "cell_type": "code",
   "execution_count": null,
   "id": "818ef12a-27d9-4cc2-aa3b-a81e7dd399f9",
   "metadata": {},
   "outputs": [],
   "source": [
    "sns.catplot(data = train_df, x='GarageQual', y='SalePrice', kind='box')"
   ]
  },
  {
   "cell_type": "code",
   "execution_count": null,
   "id": "fc0ec09c-0819-470a-8933-c781c2e8e0ef",
   "metadata": {},
   "outputs": [],
   "source": [
    "train_df['BsmtFinType2'].unique()"
   ]
  },
  {
   "cell_type": "code",
   "execution_count": null,
   "id": "104064be-e3a0-4748-99f0-6768d7ad3896",
   "metadata": {},
   "outputs": [],
   "source": [
    "train_df['BsmtFinType2'].fillna('Unf', inplace = True)\n",
    "test_df['BsmtFinType2'].fillna('Unf', inplace = True)"
   ]
  },
  {
   "cell_type": "code",
   "execution_count": null,
   "id": "2b76a66f-6d7d-4540-858f-2734f5929619",
   "metadata": {},
   "outputs": [],
   "source": [
    "sns.catplot(data = train_df, x='BsmtFinType2', y='SalePrice', kind='box')"
   ]
  },
  {
   "cell_type": "code",
   "execution_count": null,
   "id": "de0ca0f1-3e20-4fc5-bf77-b792bed3559a",
   "metadata": {},
   "outputs": [],
   "source": [
    "train_df['BsmtExposure'].unique()"
   ]
  },
  {
   "cell_type": "code",
   "execution_count": null,
   "id": "ac17cb8b-2b39-43e1-acf4-d5f46bb40d4e",
   "metadata": {},
   "outputs": [],
   "source": [
    "train_df['BsmtExposure'].fillna('No', inplace = True)\n",
    "test_df['BsmtExposure'].fillna('No', inplace = True)"
   ]
  },
  {
   "cell_type": "code",
   "execution_count": null,
   "id": "ef970fc5-4095-41b7-9b2a-bd9096b5d4d1",
   "metadata": {},
   "outputs": [],
   "source": [
    "sns.catplot(data = train_df, x='BsmtExposure', y='SalePrice', kind='box')"
   ]
  },
  {
   "cell_type": "code",
   "execution_count": null,
   "id": "ccfde809-1784-4d61-ba00-6f771e847191",
   "metadata": {},
   "outputs": [],
   "source": [
    "train_df['BsmtQual'].unique()"
   ]
  },
  {
   "cell_type": "code",
   "execution_count": null,
   "id": "b440cb71-c8d0-49d2-926b-65719651822f",
   "metadata": {},
   "outputs": [],
   "source": [
    "train_df['BsmtQual'].fillna('No', inplace = True)\n",
    "test_df['BsmtQual'].fillna('No', inplace = True)"
   ]
  },
  {
   "cell_type": "code",
   "execution_count": null,
   "id": "fa647a4f-062e-4d42-899f-385c4ccc1c4f",
   "metadata": {},
   "outputs": [],
   "source": [
    "sns.catplot(data = train_df, x='BsmtQual', y='SalePrice', kind='box')"
   ]
  },
  {
   "cell_type": "code",
   "execution_count": null,
   "id": "d1c36975-a546-4091-9c1d-02072cf6ecf5",
   "metadata": {},
   "outputs": [],
   "source": [
    "train_df['BsmtCond'].unique()"
   ]
  },
  {
   "cell_type": "code",
   "execution_count": null,
   "id": "83013c2e-5f87-469f-9b97-1d371dd6b47f",
   "metadata": {},
   "outputs": [],
   "source": [
    "train_df['BsmtCond'].fillna('No', inplace = True)\n",
    "test_df['BsmtCond'].fillna('No', inplace = True)"
   ]
  },
  {
   "cell_type": "code",
   "execution_count": null,
   "id": "5382901c-f8e0-4d97-abe0-2a3d5d6a0382",
   "metadata": {},
   "outputs": [],
   "source": [
    "sns.catplot(data = train_df, x='BsmtCond', y='SalePrice', kind='box')"
   ]
  },
  {
   "cell_type": "code",
   "execution_count": null,
   "id": "f3c9f1a5-a718-4190-8499-3a9e40a0b035",
   "metadata": {},
   "outputs": [],
   "source": [
    "train_df['BsmtFinType1'].unique()"
   ]
  },
  {
   "cell_type": "code",
   "execution_count": null,
   "id": "97d7e713-af0d-4be6-8734-ffd3b5bd0f21",
   "metadata": {},
   "outputs": [],
   "source": [
    "train_df['BsmtFinType1'].fillna('Unf', inplace = True)\n",
    "test_df['BsmtFinType1'].fillna('Unf', inplace = True)"
   ]
  },
  {
   "cell_type": "code",
   "execution_count": null,
   "id": "78160241-c617-4ccb-8f86-fb7aa903fef2",
   "metadata": {},
   "outputs": [],
   "source": [
    "sns.catplot(data = train_df, x='BsmtFinType1', y='SalePrice', kind='box')"
   ]
  },
  {
   "cell_type": "code",
   "execution_count": null,
   "id": "01472b89-02d1-4c7a-9940-2f53ba3cffbd",
   "metadata": {},
   "outputs": [],
   "source": [
    "train_df['Electrical'].unique()"
   ]
  },
  {
   "cell_type": "code",
   "execution_count": null,
   "id": "7b434b20-b61b-4763-95ff-86ff38e9bcbb",
   "metadata": {},
   "outputs": [],
   "source": [
    "train_df['Electrical'].fillna('SBrkr', inplace = True)\n",
    "test_df['Electrical'].fillna('SBrkr', inplace = True)"
   ]
  },
  {
   "cell_type": "code",
   "execution_count": null,
   "id": "a8be0a94-fab2-46e8-8396-fa73e46fd2a9",
   "metadata": {},
   "outputs": [],
   "source": [
    "sns.catplot(data = train_df, x='Electrical', y='SalePrice', kind='box')"
   ]
  },
  {
   "cell_type": "code",
   "execution_count": null,
   "id": "7fb59874-e8fd-4e71-9dfd-9484d972fc52",
   "metadata": {},
   "outputs": [],
   "source": [
    "train_df = train_df.drop(columns = ['PoolQC','MiscFeature','Alley','Fence','GarageYrBlt','GarageCond','BsmtFinType2','Id'])\n",
    "test_df = test_df.drop(columns = ['PoolQC','MiscFeature','Alley','Fence','GarageYrBlt','GarageCond','BsmtFinType2'])"
   ]
  },
  {
   "cell_type": "markdown",
   "id": "b2593d83-330a-46f2-a133-2779af94a198",
   "metadata": {},
   "source": [
    "## Feature Engineering"
   ]
  },
  {
   "cell_type": "code",
   "execution_count": null,
   "id": "1dcf544c-77aa-4b49-9d12-58e87d2a4248",
   "metadata": {},
   "outputs": [],
   "source": [
    "train_df['houseage'] = train_df['YrSold'] - train_df['YearBuilt']\n",
    "test_df['houseage'] = test_df['YrSold'] - test_df['YearBuilt']"
   ]
  },
  {
   "cell_type": "code",
   "execution_count": null,
   "id": "4eee990b-a5d9-44c9-a78f-1934f8299b1e",
   "metadata": {},
   "outputs": [],
   "source": [
    "train_df['houseremodelage'] = train_df['YrSold'] - train_df['YearRemodAdd']\n",
    "test_df['houseremodelage'] = test_df['YrSold'] - test_df['YearRemodAdd']"
   ]
  },
  {
   "cell_type": "code",
   "execution_count": null,
   "id": "77685014-f11d-4052-9ca3-fa8d041e74b8",
   "metadata": {},
   "outputs": [],
   "source": [
    "train_df['totalsf'] = train_df['1stFlrSF'] + train_df['2ndFlrSF'] + train_df['BsmtFinSF1'] + train_df['BsmtFinSF2']\n",
    "test_df['totalsf'] = test_df['1stFlrSF'] + test_df['2ndFlrSF'] + test_df['BsmtFinSF1'] + test_df['BsmtFinSF2']"
   ]
  },
  {
   "cell_type": "code",
   "execution_count": null,
   "id": "e51af30d-2928-4513-b28d-4314eae23def",
   "metadata": {},
   "outputs": [],
   "source": [
    "train_df['totalarea'] = train_df['GrLivArea'] + train_df['TotalBsmtSF']\n",
    "test_df['totalarea'] = test_df['GrLivArea'] + test_df['TotalBsmtSF']"
   ]
  },
  {
   "cell_type": "code",
   "execution_count": null,
   "id": "ff9b227a-ad16-4c51-9573-cc3c1ec3d3a6",
   "metadata": {},
   "outputs": [],
   "source": [
    "train_df['totalbaths'] = train_df['BsmtFullBath'] + train_df['FullBath'] + 0.5 * (train_df['BsmtHalfBath']) + train_df['HalfBath']\n",
    "test_df['totalbaths'] = test_df['BsmtFullBath'] + test_df['FullBath'] + 0.5 * (test_df['BsmtHalfBath']) + test_df['HalfBath']"
   ]
  },
  {
   "cell_type": "code",
   "execution_count": null,
   "id": "54c1c8c0-0a12-49b3-9db2-56f5e2f9417d",
   "metadata": {},
   "outputs": [],
   "source": [
    "train_df['totalporchsf'] = train_df['OpenPorchSF'] + train_df['3SsnPorch'] + train_df['EnclosedPorch'] + train_df['ScreenPorch'] + train_df['WoodDeckSF']\n",
    "test_df['totalporchsf'] = test_df['OpenPorchSF'] + test_df['3SsnPorch'] + test_df['EnclosedPorch'] + test_df['ScreenPorch'] + test_df['WoodDeckSF']"
   ]
  },
  {
   "cell_type": "code",
   "execution_count": null,
   "id": "587f6629-cce0-4497-8939-bcc451adecdb",
   "metadata": {},
   "outputs": [],
   "source": [
    "train_df = train_df.drop(columns = ['YrSold','YearBuilt','YearRemodAdd','2ndFlrSF','BsmtFinSF1','BsmtFinSF2','BsmtFullBath','BsmtHalfBath','HalfBath','OpenPorchSF','3SsnPorch','EnclosedPorch','ScreenPorch','WoodDeckSF'])\n",
    "test_df = test_df.drop(columns = ['YrSold','YearBuilt','YearRemodAdd','2ndFlrSF','BsmtFinSF1','BsmtFinSF2','BsmtFullBath','BsmtHalfBath','HalfBath','OpenPorchSF','3SsnPorch','EnclosedPorch','ScreenPorch','WoodDeckSF'])"
   ]
  },
  {
   "cell_type": "code",
   "execution_count": null,
   "id": "c524ce3f-6fdc-428e-97af-47f6a3e43a2b",
   "metadata": {},
   "outputs": [],
   "source": [
    "correlation_matrix = train_df.corr(numeric_only = True)\n",
    "plt.figure(figsize = (20,15))\n",
    "sns.heatmap(correlation_matrix, annot = True,cmap = 'coolwarm', fmt = '.2f')"
   ]
  },
  {
   "cell_type": "code",
   "execution_count": null,
   "id": "870fbb16-b33e-48e8-981c-17d35df7adb0",
   "metadata": {},
   "outputs": [],
   "source": [
    "#drop GarageArea or GarageCars "
   ]
  },
  {
   "cell_type": "code",
   "execution_count": null,
   "id": "b7f71363-7210-44b0-bb89-b85160fc933e",
   "metadata": {},
   "outputs": [],
   "source": [
    "train_df = train_df.drop(columns = ['GarageArea'])\n",
    "test_df = test_df.drop(columns = ['GarageArea'])"
   ]
  },
  {
   "cell_type": "code",
   "execution_count": null,
   "id": "fd297681-928e-4aa9-8249-6f49ed729494",
   "metadata": {},
   "outputs": [],
   "source": [
    "sns.histplot(\n",
    "    train_df,\n",
    "    x=train_df['SalePrice']\n",
    ")"
   ]
  },
  {
   "cell_type": "code",
   "execution_count": null,
   "id": "0cdb16ba-3505-4d93-a2dc-a7a025ac27fc",
   "metadata": {},
   "outputs": [],
   "source": [
    "train_df['SalePrice'] = np.log1p(train_df['SalePrice'])"
   ]
  },
  {
   "cell_type": "code",
   "execution_count": null,
   "id": "592c6e2a-d538-4eea-ad54-fe4c571e439c",
   "metadata": {},
   "outputs": [],
   "source": [
    "sns.histplot(\n",
    "    train_df,\n",
    "    x=train_df['SalePrice']\n",
    ")"
   ]
  },
  {
   "cell_type": "markdown",
   "id": "7f42c1a3-f5eb-4d9d-b46a-2c3b3ffb33af",
   "metadata": {},
   "source": [
    "## Feature Encoding"
   ]
  },
  {
   "cell_type": "code",
   "execution_count": null,
   "id": "cfeb116d-bf76-4eb5-8321-8de30a56e873",
   "metadata": {},
   "outputs": [],
   "source": [
    "train_df.dtypes[train_df.dtypes != 'object']"
   ]
  },
  {
   "cell_type": "code",
   "execution_count": null,
   "id": "af64955c-b967-4393-bb81-1ffc86c3b2b7",
   "metadata": {},
   "outputs": [],
   "source": [
    "train_df.dtypes[train_df.dtypes == 'object']"
   ]
  },
  {
   "cell_type": "code",
   "execution_count": null,
   "id": "a473d5fc-8417-4610-bbe7-61af31a585f0",
   "metadata": {},
   "outputs": [],
   "source": [
    "#Ordinal Encoding\n",
    "ode_cols = ['LotShape', 'LandContour', 'Utilities', 'LandSlope','ExterQual','ExterCond','BsmtQual','BsmtCond','BsmtExposure','BsmtFinType1','HeatingQC','KitchenQual','FireplaceQu','GarageFinish','GarageQual']"
   ]
  },
  {
   "cell_type": "code",
   "execution_count": null,
   "id": "f97fa358-8566-4d4d-bab1-d72050bba7a7",
   "metadata": {},
   "outputs": [],
   "source": [
    "#One-hot encoding\n",
    "ohe_cols = ['MSZoning', 'Street', 'LotConfig', 'Neighborhood', 'Condition1', 'Condition2', 'BldgType', 'HouseStyle', 'RoofStyle', 'RoofMatl', 'Exterior1st', 'Exterior2nd', 'MasVnrType','Foundation','Heating','CentralAir','Electrical','Functional','GarageType','PavedDrive','SaleType','SaleCondition']"
   ]
  },
  {
   "cell_type": "code",
   "execution_count": null,
   "id": "fbf0cbe4-0f4a-4530-be7a-74bf85febed5",
   "metadata": {},
   "outputs": [],
   "source": [
    "num_cols = train_df.select_dtypes(include=['int64', 'float64']).columns\n",
    "num_cols = num_cols.drop('SalePrice')"
   ]
  },
  {
   "cell_type": "code",
   "execution_count": null,
   "id": "c2c9adcf-057e-402d-8174-5947a83a84cc",
   "metadata": {},
   "outputs": [],
   "source": [
    "num_pipeline = Pipeline(steps=[\n",
    "    ('impute', SimpleImputer(strategy = 'mean')),\n",
    "    ('scaler', StandardScaler())\n",
    "])"
   ]
  },
  {
   "cell_type": "code",
   "execution_count": null,
   "id": "8a9f9a08-5085-4e91-8dad-81a20040f36b",
   "metadata": {},
   "outputs": [],
   "source": [
    "ode_pipeline = Pipeline(steps=[\n",
    "    ('impute', SimpleImputer(strategy = 'most_frequent')),\n",
    "    ('ode', OrdinalEncoder(handle_unknown = 'use_encoded_value', unknown_value = -1))\n",
    "])"
   ]
  },
  {
   "cell_type": "code",
   "execution_count": null,
   "id": "b6f596e9-8f77-401a-b479-7d89a69a18ec",
   "metadata": {},
   "outputs": [],
   "source": [
    "ohe_pipeline = Pipeline(steps=[\n",
    "    ('impute', SimpleImputer(strategy = 'most_frequent')),\n",
    "    ('ohe', OneHotEncoder(handle_unknown = 'ignore', sparse_output = False))\n",
    "])"
   ]
  },
  {
   "cell_type": "code",
   "execution_count": null,
   "id": "23043254-6ccf-46e1-8325-8d53c868a1cf",
   "metadata": {},
   "outputs": [],
   "source": [
    "col_trans = ColumnTransformer(transformers = [\n",
    "    ('num_p', num_pipeline, num_cols),\n",
    "    ('ode_p', ode_pipeline, ode_cols),\n",
    "    ('ohe_p', ohe_pipeline, ohe_cols)],\n",
    "    remainder= 'passthrough', \n",
    "    n_jobs = -1)"
   ]
  },
  {
   "cell_type": "code",
   "execution_count": null,
   "id": "eb5fc9e9-005d-46c0-8490-ff2ed22c5bda",
   "metadata": {},
   "outputs": [],
   "source": [
    "pipeline = Pipeline(steps=[\n",
    "    ('preprocessing', col_trans)\n",
    "])"
   ]
  },
  {
   "cell_type": "code",
   "execution_count": null,
   "id": "492f3003-a0bb-4913-a8c3-436201fb38dc",
   "metadata": {},
   "outputs": [],
   "source": [
    "X = train_df.drop('SalePrice', axis = 1)\n",
    "y = train_df['SalePrice']"
   ]
  },
  {
   "cell_type": "code",
   "execution_count": null,
   "id": "03191e86-1db4-4c2a-9431-bea008299d97",
   "metadata": {},
   "outputs": [],
   "source": [
    "x_preprocessed = pipeline.fit_transform(X)"
   ]
  },
  {
   "cell_type": "markdown",
   "id": "0625c893-c42c-4b7b-badf-47c19e7bd6f2",
   "metadata": {},
   "source": [
    "## Traina "
   ]
  },
  {
   "cell_type": "code",
   "execution_count": null,
   "id": "273c2339-b271-499f-a2af-e534117f53ef",
   "metadata": {},
   "outputs": [],
   "source": [
    "X_train, X_test, y_train, y_test = train_test_split(x_preprocessed, y, test_size = 0.2, random_state = 25)"
   ]
  },
  {
   "cell_type": "code",
   "execution_count": null,
   "id": "9a3411a3-4699-448e-9803-e99ebfb97f87",
   "metadata": {},
   "outputs": [],
   "source": [
    "lr = LinearRegression()"
   ]
  },
  {
   "cell_type": "code",
   "execution_count": null,
   "id": "d4e0ebb3-4631-45f2-a566-e5dbbb18c49c",
   "metadata": {},
   "outputs": [],
   "source": [
    "lr.fit(X_train, y_train)"
   ]
  },
  {
   "cell_type": "code",
   "execution_count": null,
   "id": "e4b8cf86-a3e4-4915-b906-0db72b72f959",
   "metadata": {},
   "outputs": [],
   "source": [
    "y_pred_lr = lr.predict(X_test)"
   ]
  },
  {
   "cell_type": "code",
   "execution_count": null,
   "id": "87083a5a-2ba8-49bc-8956-653ae6fa5907",
   "metadata": {},
   "outputs": [],
   "source": [
    "mean_squared_error(y_test, y_pred_lr)"
   ]
  },
  {
   "cell_type": "code",
   "execution_count": null,
   "id": "e43800d4-38b7-4664-a28f-0c6e9d1cc45e",
   "metadata": {},
   "outputs": [],
   "source": [
    "root_mean_squared_error(y_test, y_pred_lr)"
   ]
  },
  {
   "cell_type": "code",
   "execution_count": null,
   "id": "43338af5-b4e0-44a8-8c3d-a229df33af3e",
   "metadata": {},
   "outputs": [],
   "source": [
    "RFR = RandomForestRegressor(random_state = 13)"
   ]
  },
  {
   "cell_type": "code",
   "execution_count": null,
   "id": "de25ba67-fd0e-4ff8-af47-0be10765f2e4",
   "metadata": {},
   "outputs": [],
   "source": [
    "param_grid_RFR = {\n",
    "    'max_depth' : [5, 10, 15],\n",
    "    'n_estimators' : [100, 250, 500],\n",
    "    'min_samples_split' : [3, 5 ,10]\n",
    "}"
   ]
  },
  {
   "cell_type": "code",
   "execution_count": null,
   "id": "040b01a5-3591-458e-97f1-713f5591a103",
   "metadata": {},
   "outputs": [],
   "source": [
    "rfr_cv = GridSearchCV(RFR, param_grid_RFR, cv=5, scoring = 'neg_root_mean_squared_error', n_jobs = -1)"
   ]
  },
  {
   "cell_type": "code",
   "execution_count": null,
   "id": "4ad76740-16d8-4a08-b631-2b8eb79e0a67",
   "metadata": {},
   "outputs": [],
   "source": [
    "rfr_cv.fit(X_train, y_train)"
   ]
  },
  {
   "cell_type": "code",
   "execution_count": null,
   "id": "434641e3-6f8e-409d-aa50-5a2f1c30a7e5",
   "metadata": {},
   "outputs": [],
   "source": [
    "y_pred_rfr = rfr_cv.predict(X_test)"
   ]
  },
  {
   "cell_type": "code",
   "execution_count": null,
   "id": "6d7b35c5-90d4-4ed3-a39e-a81e49a2fd5b",
   "metadata": {},
   "outputs": [],
   "source": [
    "-rfr_cv.best_score_"
   ]
  },
  {
   "cell_type": "code",
   "execution_count": null,
   "id": "20b41a40-018c-4337-866c-e50d98c9ab11",
   "metadata": {},
   "outputs": [],
   "source": [
    "y_pred_rfr = rfr_cv.predict(X_test)"
   ]
  },
  {
   "cell_type": "code",
   "execution_count": null,
   "id": "c364915c-d216-4b41-9bcc-5f93d01d0b10",
   "metadata": {},
   "outputs": [],
   "source": [
    "root_mean_squared_error(y_test, y_pred_rfr)"
   ]
  },
  {
   "cell_type": "code",
   "execution_count": null,
   "id": "ef03e78f-48e2-4670-bc4d-af853d4101b7",
   "metadata": {},
   "outputs": [],
   "source": [
    "rfr_cv.best_params_"
   ]
  },
  {
   "cell_type": "code",
   "execution_count": null,
   "id": "dd1b6ee0-586f-4d21-b42f-9381254e9afe",
   "metadata": {},
   "outputs": [],
   "source": [
    "XGB = XGBRegressor(random_state=13)"
   ]
  },
  {
   "cell_type": "code",
   "execution_count": null,
   "id": "c43d6cb0-7b26-4fdf-ba61-f83420acf3f5",
   "metadata": {},
   "outputs": [],
   "source": [
    "param_grid_XGB = {\n",
    "    'learning_rate': [0.05, 0.1, 0.2],\n",
    "    'n_estimators': [300],\n",
    "    'max_depth': [3],\n",
    "    'min_child_weight': [1,2,3],\n",
    "    'gamma': [0, 0.1, 0.2],\n",
    "    'subsample' : [0.8, 0.9, 1.0],\n",
    "    'colsample_bytree': [0.8,0.9,1.0]\n",
    "}"
   ]
  },
  {
   "cell_type": "code",
   "execution_count": null,
   "id": "5f839997-9578-4962-97e7-b66b32bfd50b",
   "metadata": {},
   "outputs": [],
   "source": [
    "XGB_cv = GridSearchCV(XGB, param_grid_XGB, cv=3, scoring = 'neg_root_mean_squared_error', n_jobs = -1)"
   ]
  },
  {
   "cell_type": "code",
   "execution_count": null,
   "id": "c28c260c-8c8b-488a-af6a-0e9fe3a8112e",
   "metadata": {},
   "outputs": [],
   "source": [
    "XGB_cv.fit(X_train, y_train)"
   ]
  },
  {
   "cell_type": "code",
   "execution_count": null,
   "id": "0109457d-4e61-4f0e-b25a-3f7ceff9adf3",
   "metadata": {},
   "outputs": [],
   "source": [
    "-XGB_cv.best_score_"
   ]
  },
  {
   "cell_type": "code",
   "execution_count": null,
   "id": "6d57f60f-74a2-4096-8381-642449df63e0",
   "metadata": {},
   "outputs": [],
   "source": [
    "y_pred_XGB = XGB_cv.predict(X_test)"
   ]
  },
  {
   "cell_type": "code",
   "execution_count": null,
   "id": "20d67ba2-1347-40a4-b9ed-adeef0eb56db",
   "metadata": {},
   "outputs": [],
   "source": [
    "root_mean_squared_error(y_test, y_pred_XGB)"
   ]
  },
  {
   "cell_type": "code",
   "execution_count": null,
   "id": "076b7265-f295-4e32-a883-2b4077fd1d30",
   "metadata": {},
   "outputs": [],
   "source": [
    "XGB_cv.best_params_"
   ]
  },
  {
   "cell_type": "code",
   "execution_count": null,
   "id": "bc25afef-5615-4389-aa31-53ad66720f58",
   "metadata": {},
   "outputs": [],
   "source": [
    "ridge = Ridge()"
   ]
  },
  {
   "cell_type": "code",
   "execution_count": null,
   "id": "8c683f9b-7f83-44af-a679-61f9ab0aea72",
   "metadata": {},
   "outputs": [],
   "source": [
    "param_grid_ridge = {\n",
    "    'alpha': [0.05, 0.1, 1, 3, 5, 10],\n",
    "    'solver': ['auto', 'svd', 'cholesky', 'lsqr', 'sparse_cg', 'sag']\n",
    "}"
   ]
  },
  {
   "cell_type": "code",
   "execution_count": null,
   "id": "fd44dd3d-b127-45aa-b629-0b5244dd80f6",
   "metadata": {},
   "outputs": [],
   "source": [
    "ridge_cv = GridSearchCV(ridge, param_grid_ridge, cv=5, scoring = 'neg_root_mean_squared_error', n_jobs = -1)"
   ]
  },
  {
   "cell_type": "code",
   "execution_count": null,
   "id": "86c4f94b-fd7d-4f48-bcad-b63c97f50801",
   "metadata": {},
   "outputs": [],
   "source": [
    "ridge_cv.fit(X_train, y_train)"
   ]
  },
  {
   "cell_type": "code",
   "execution_count": null,
   "id": "5db1176d-0458-45da-833c-43b767ccb6de",
   "metadata": {},
   "outputs": [],
   "source": [
    "-ridge_cv.best_score_"
   ]
  },
  {
   "cell_type": "code",
   "execution_count": null,
   "id": "f14110e8-0ecc-48e4-a049-6766ee99f70b",
   "metadata": {},
   "outputs": [],
   "source": [
    "y_pred_ridge = ridge_cv.predict(X_test)"
   ]
  },
  {
   "cell_type": "code",
   "execution_count": null,
   "id": "2a94a8f9-4f32-4928-b1b9-bd25504e9138",
   "metadata": {},
   "outputs": [],
   "source": [
    "root_mean_squared_error(y_test, y_pred_ridge)"
   ]
  },
  {
   "cell_type": "code",
   "execution_count": null,
   "id": "c09c29b5-971d-4dc7-984f-8d222a9d2d5a",
   "metadata": {},
   "outputs": [],
   "source": [
    "GBR = GradientBoostingRegressor()"
   ]
  },
  {
   "cell_type": "code",
   "execution_count": null,
   "id": "613a987b-7718-4229-bba5-5017fbc0e116",
   "metadata": {},
   "outputs": [],
   "source": [
    "param_grid_GBR = {\n",
    "    'learning_rate': [0.001, 0.01, 0.1],\n",
    "    'max_depth' : [12, 15, 20],\n",
    "    'n_estimators' : [200, 300, 1000],\n",
    "    'min_samples_leaf' : [10, 25 ,50],\n",
    "    'max_features': [0.01, 0.1, 0.7]\n",
    "}"
   ]
  },
  {
   "cell_type": "code",
   "execution_count": null,
   "id": "9ce7a2f9-5df2-40de-88b1-0c2b8b98a8c1",
   "metadata": {},
   "outputs": [],
   "source": [
    "GBR_cv = GridSearchCV(GBR, param_grid_GBR, cv=5, scoring = 'neg_root_mean_squared_error', n_jobs = -1)"
   ]
  },
  {
   "cell_type": "code",
   "execution_count": null,
   "id": "a5395fa2-cb57-496c-9e6a-bee8f5e4b200",
   "metadata": {},
   "outputs": [],
   "source": [
    "GBR_cv.fit(X_train, y_train)"
   ]
  },
  {
   "cell_type": "code",
   "execution_count": null,
   "id": "339a4da1-9897-4a11-93d7-5956985910b9",
   "metadata": {},
   "outputs": [],
   "source": [
    "-GBR_cv.best_score_"
   ]
  },
  {
   "cell_type": "code",
   "execution_count": null,
   "id": "c977ba24-234e-4e9c-9edc-50498b268e80",
   "metadata": {},
   "outputs": [],
   "source": [
    "y_pred_GBR = GBR_cv.predict(X_test)"
   ]
  },
  {
   "cell_type": "code",
   "execution_count": null,
   "id": "f3b3a2cc-809a-474a-abe9-ba71d7409d1e",
   "metadata": {},
   "outputs": [],
   "source": [
    "root_mean_squared_error(y_test, y_pred_GBR)"
   ]
  },
  {
   "cell_type": "code",
   "execution_count": null,
   "id": "489745a5-23c9-409c-a55f-231302761f12",
   "metadata": {},
   "outputs": [],
   "source": [
    "lgbm_regressor = lgb.LGBMRegressor()"
   ]
  },
  {
   "cell_type": "code",
   "execution_count": null,
   "id": "f9be330d-f2a8-41ae-9c49-0a41c3af01e6",
   "metadata": {},
   "outputs": [],
   "source": [
    "param_grid_lgbm = {\n",
    "    'boosting_type': ['gbdt', 'dart'],\n",
    "    'num_leaves': [20, 30, 40],\n",
    "    'learning_rate': [0.01, 0.05, 0.1],\n",
    "    'n_estimators': [100, 200, 300]\n",
    "}"
   ]
  },
  {
   "cell_type": "code",
   "execution_count": null,
   "id": "1bc991f3-a321-4cbe-b4c6-099420783e3e",
   "metadata": {},
   "outputs": [],
   "source": [
    "lgbm_cv = GridSearchCV(lgbm_regressor, param_grid_lgbm, cv=3, scoring = 'neg_root_mean_squared_error', n_jobs = -1)"
   ]
  },
  {
   "cell_type": "code",
   "execution_count": null,
   "id": "88a6b62a-60f7-48d4-9e8a-e717672caed5",
   "metadata": {},
   "outputs": [],
   "source": [
    "lgbm_cv.fit(X_train, y_train)"
   ]
  },
  {
   "cell_type": "code",
   "execution_count": null,
   "id": "5c582ac9-a104-446d-b0bc-435f3318dff0",
   "metadata": {},
   "outputs": [],
   "source": [
    "-lgbm_cv.best_score_"
   ]
  },
  {
   "cell_type": "code",
   "execution_count": null,
   "id": "ad77fc44-8346-4d67-874b-4a7a8eaac036",
   "metadata": {},
   "outputs": [],
   "source": [
    "y_pred_lgbm = lgbm_cv.predict(X_test)"
   ]
  },
  {
   "cell_type": "code",
   "execution_count": null,
   "id": "5a79fd4c-0f5c-4945-8e20-9499a2a76edd",
   "metadata": {},
   "outputs": [],
   "source": [
    "root_mean_squared_error(y_test, y_pred_lgbm)"
   ]
  },
  {
   "cell_type": "code",
   "execution_count": null,
   "id": "31b01436-3354-4cd2-898a-02db4e464936",
   "metadata": {},
   "outputs": [],
   "source": [
    "catboost = CatBoostRegressor(loss_function='RMSE', verbose=False)"
   ]
  },
  {
   "cell_type": "code",
   "execution_count": null,
   "id": "67b81885-1724-4689-ad73-865c76a1bc88",
   "metadata": {},
   "outputs": [],
   "source": [
    "param_grid_cat = {\n",
    "    'iterations': [100, 500, 1000],\n",
    "    'depth': [4,6,8,10],\n",
    "    'learning_rate': [0.01,0.05,0.1,0.5]\n",
    "}"
   ]
  },
  {
   "cell_type": "code",
   "execution_count": null,
   "id": "b34805a1-5523-40a0-b72a-9e4eebcd3a0d",
   "metadata": {},
   "outputs": [],
   "source": [
    "cat_cv = GridSearchCV(catboost, param_grid_cat, cv=3, scoring = 'neg_root_mean_squared_error', n_jobs = -1)"
   ]
  },
  {
   "cell_type": "code",
   "execution_count": null,
   "id": "6192ec10-2c6a-4244-aa74-5a912e17441f",
   "metadata": {},
   "outputs": [],
   "source": [
    "cat_cv.fit(X_train, y_train)"
   ]
  },
  {
   "cell_type": "code",
   "execution_count": null,
   "id": "2e4eaa24-221d-4515-b517-0807286207cf",
   "metadata": {},
   "outputs": [],
   "source": [
    "-cat_cv.best_score_"
   ]
  },
  {
   "cell_type": "code",
   "execution_count": null,
   "id": "8dc0c2fc-d3ca-4e2f-86d0-a18ce0e91f71",
   "metadata": {},
   "outputs": [],
   "source": [
    "y_pred_cat = cat_cv.predict(X_test)"
   ]
  },
  {
   "cell_type": "code",
   "execution_count": null,
   "id": "244e2bf1-a402-4f5a-baf4-84cbb21330ef",
   "metadata": {},
   "outputs": [],
   "source": [
    "root_mean_squared_error(y_test, y_pred_cat)"
   ]
  },
  {
   "cell_type": "code",
   "execution_count": null,
   "id": "e34218f7-5686-467c-814f-1d293e9b69c4",
   "metadata": {},
   "outputs": [],
   "source": [
    "vr = VotingRegressor([('gbr', GBR_cv.best_estimator_),\n",
    "                      ('xgb', XGB_cv.best_estimator_),\n",
    "                      ('lgbm', lgbm_cv.best_estimator_)],\n",
    "                      weights = [3,2,1])"
   ]
  },
  {
   "cell_type": "code",
   "execution_count": null,
   "id": "04d3565d-6ac7-412e-8641-276767402ca8",
   "metadata": {},
   "outputs": [],
   "source": [
    "vr.fit(X_train, y_train)"
   ]
  },
  {
   "cell_type": "code",
   "execution_count": null,
   "id": "95ad5dae-bb28-4522-83df-a1e6c5ad12f9",
   "metadata": {},
   "outputs": [],
   "source": [
    "y_pred_vr = vr.predict(X_test)"
   ]
  },
  {
   "cell_type": "code",
   "execution_count": null,
   "id": "3ee66157-eda1-4bcb-80e4-6c8f07caa38e",
   "metadata": {},
   "outputs": [],
   "source": [
    "root_mean_squared_error(y_test, y_pred_vr)"
   ]
  },
  {
   "cell_type": "code",
   "execution_count": null,
   "id": "85fa80df-b0f7-449d-97d7-f1c93962ed77",
   "metadata": {},
   "outputs": [],
   "source": [
    "estimators = [\n",
    "    ('gbr', GBR_cv.best_estimator_),\n",
    "    ('xgb', XGB_cv.best_estimator_),\n",
    "    ('cat', cat_cv.best_estimator_),\n",
    "    ('lgbm', lgbm_cv.best_estimator_),\n",
    "    ('rfr', rfr_cv.best_estimator_),\n",
    "]"
   ]
  },
  {
   "cell_type": "code",
   "execution_count": null,
   "id": "a06e94f6-c160-45e8-bc7a-284da6a7cff7",
   "metadata": {},
   "outputs": [],
   "source": [
    "stackreg = StackingRegressor(\n",
    "    estimators = estimators,\n",
    "    final_estimator = vr\n",
    ")"
   ]
  },
  {
   "cell_type": "code",
   "execution_count": null,
   "id": "d8a071c5-d472-43cc-8461-6e7b568af493",
   "metadata": {},
   "outputs": [],
   "source": [
    "stackreg.fit(X_train, y_train)"
   ]
  },
  {
   "cell_type": "code",
   "execution_count": null,
   "id": "38d407a8-f148-45d6-8c76-09d47632b25b",
   "metadata": {},
   "outputs": [],
   "source": [
    "y_pred_stackreg = stackreg.predict(X_test)"
   ]
  },
  {
   "cell_type": "code",
   "execution_count": null,
   "id": "de3cdb6d-be29-4620-abb5-c60cea684628",
   "metadata": {},
   "outputs": [],
   "source": [
    "root_mean_squared_error(y_test, y_pred_stackreg)"
   ]
  },
  {
   "cell_type": "code",
   "execution_count": null,
   "id": "697141c7-96e2-436a-8ba5-8af77055f29e",
   "metadata": {},
   "outputs": [],
   "source": [
    "df_test_preprocessed = pipeline.transform(test_df)"
   ]
  },
  {
   "cell_type": "code",
   "execution_count": null,
   "id": "9069666f-4508-46ea-ac0d-33f734c2a247",
   "metadata": {},
   "outputs": [],
   "source": [
    "y_ridge = np.exp(ridge_cv.predict(df_test_preprocessed))\n",
    "\n",
    "df_y_ridge_out = test_df[['Id']]\n",
    "df_y_ridge_out['SalePrice'] = y_ridge\n",
    "df_y_ridge_out.to_csv('HousePredictionRidge.csv', index = False)"
   ]
  },
  {
   "cell_type": "code",
   "execution_count": null,
   "id": "3474eb8a-31c3-4530-b855-fe49068bff9d",
   "metadata": {},
   "outputs": [],
   "source": [
    "root_mean_squared_error(y_test, y_pred_lr)"
   ]
  },
  {
   "cell_type": "code",
   "execution_count": null,
   "id": "e3d4e9de-0cbf-4ebb-801a-085e3328e251",
   "metadata": {},
   "outputs": [],
   "source": [
    "root_mean_squared_error(y_test, y_pred_rfr)"
   ]
  },
  {
   "cell_type": "code",
   "execution_count": null,
   "id": "b70d0d27-5d0d-4d76-bd77-ff1c9408782f",
   "metadata": {},
   "outputs": [],
   "source": [
    "root_mean_squared_error(y_test, y_pred_XGB)"
   ]
  },
  {
   "cell_type": "code",
   "execution_count": null,
   "id": "6ad715e8-0027-43d6-80fa-8d9386d5e0ea",
   "metadata": {},
   "outputs": [],
   "source": [
    "root_mean_squared_error(y_test, y_pred_ridge)"
   ]
  },
  {
   "cell_type": "code",
   "execution_count": null,
   "id": "2405b16e-7584-4d6f-a2cc-3f31b7024c47",
   "metadata": {},
   "outputs": [],
   "source": [
    "root_mean_squared_error(y_test, y_pred_GBR)"
   ]
  },
  {
   "cell_type": "code",
   "execution_count": null,
   "id": "0d1f7147-2c68-4e5d-84c7-7342bf846fa0",
   "metadata": {},
   "outputs": [],
   "source": [
    "root_mean_squared_error(y_test, y_pred_lgbm)"
   ]
  },
  {
   "cell_type": "code",
   "execution_count": null,
   "id": "ee4e5d1d-f3d6-4339-bc81-7a385362dda1",
   "metadata": {},
   "outputs": [],
   "source": [
    "root_mean_squared_error(y_test, y_pred_cat)"
   ]
  },
  {
   "cell_type": "code",
   "execution_count": null,
   "id": "5191e2a7-cda7-4250-a786-ca5527e1565d",
   "metadata": {},
   "outputs": [],
   "source": [
    "root_mean_squared_error(y_test, y_pred_vr)"
   ]
  },
  {
   "cell_type": "code",
   "execution_count": null,
   "id": "da3b5340-c4ae-4f17-9eeb-7811ee987467",
   "metadata": {},
   "outputs": [],
   "source": [
    "root_mean_squared_error(y_test, y_pred_stackreg)"
   ]
  },
  {
   "cell_type": "code",
   "execution_count": null,
   "id": "d52a4dec-ece3-4c3e-a51e-d637f352084b",
   "metadata": {},
   "outputs": [],
   "source": []
  }
 ],
 "metadata": {
  "kernelspec": {
   "display_name": "Python [conda env:base] *",
   "language": "python",
   "name": "conda-base-py"
  },
  "language_info": {
   "codemirror_mode": {
    "name": "ipython",
    "version": 3
   },
   "file_extension": ".py",
   "mimetype": "text/x-python",
   "name": "python",
   "nbconvert_exporter": "python",
   "pygments_lexer": "ipython3",
   "version": "3.12.7"
  },
  "panel-cell-order": [
   "6f9778f6-47cb-41c5-b941-029bf62afe1d"
  ]
 },
 "nbformat": 4,
 "nbformat_minor": 5
}
